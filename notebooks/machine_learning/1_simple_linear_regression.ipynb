{
 "cells": [
  {
   "cell_type": "markdown",
   "metadata": {},
   "source": [
    "# Simple Linear Regression\n",
    "\n",
    "This notebook demonstrates a simple linear regression implementation. The dataset is generated from scikit-learn library."
   ]
  },
  {
   "cell_type": "markdown",
   "metadata": {},
   "source": [
    "## Visualize Input Data\n",
    "First, a dataset is created and made of multiple examples with a single feature."
   ]
  },
  {
   "cell_type": "code",
   "execution_count": 2,
   "metadata": {},
   "outputs": [
    {
     "data": {
      "text/plain": [
       "<matplotlib.collections.PathCollection at 0x20c2973d3c8>"
      ]
     },
     "execution_count": 2,
     "metadata": {},
     "output_type": "execute_result"
    },
    {
     "data": {
      "image/png": "[encoded data removed]",
      "text/plain": [
       "<Figure size 432x288 with 1 Axes>"
      ]
     },
     "metadata": {
      "needs_background": "light"
     },
     "output_type": "display_data"
    }
   ],
   "source": [
    "import numpy as np\n",
    "from sklearn import datasets\n",
    "import matplotlib.pyplot as plt\n",
    "\n",
    "# Generate a random dataset\n",
    "n_samples = 20\n",
    "train_x, train_y = datasets.make_regression(n_features=1, n_samples=n_samples, \n",
    "                                random_state=0, noise=1.0)\n",
    "\n",
    "# check the shape of the training data \n",
    "# train_x.shape is (n_samples, n_features=1)\n",
    "# train_y.shape is (n_samples)\n",
    "\n",
    "# Show the dataset\n",
    "plt.scatter(train_x, train_y, color='yellowgreen', marker='.')"
   ]
  },
  {
   "cell_type": "markdown",
   "metadata": {},
   "source": [
    "## Generate Model"
   ]
  },
  {
   "cell_type": "markdown",
   "metadata": {},
   "source": [
    "Our hypothesis is $h(x)=\\theta_{0} + \\theta_{1}x$ and we are looking for a $\\theta$ to minimize the model.\n",
    "\n",
    "Iterative methods (like gradient descent) could be applied to minimize the function but in this case, we are using the **normal equation**.\n",
    "\n",
    "$$(X^{T}X)^{-1}.(X^{T}y)$$"
   ]
  },
  {
   "cell_type": "code",
   "execution_count": 3,
   "metadata": {},
   "outputs": [],
   "source": [
    "# compute X\n",
    "X = np.ones((n_samples, 2)) \n",
    "X[:,1] = train_x.reshape(n_samples)\n",
    "\n",
    "# compute transpose(X)\n",
    "Xt = np.transpose(X)\n",
    "\n",
    "# compute the parameters by inverting the Normal Equation : inv(transpose(X).X).(transpose(X)y)\n",
    "thetas = np.linalg.pinv(np.dot(Xt, X)).dot(np.dot(Xt, train_y))"
   ]
  },
  {
   "cell_type": "markdown",
   "metadata": {},
   "source": [
    "## Predict"
   ]
  },
  {
   "cell_type": "code",
   "execution_count": 4,
   "metadata": {},
   "outputs": [
    {
     "data": {
      "text/plain": [
       "[<matplotlib.lines.Line2D at 0x20c29753c48>]"
      ]
     },
     "execution_count": 4,
     "metadata": {},
     "output_type": "execute_result"
    },
    {
     "data": {
      "image/png": "[encoded data removed]",
      "text/plain": [
       "<Figure size 432x288 with 1 Axes>"
      ]
     },
     "metadata": {
      "needs_background": "light"
     },
     "output_type": "display_data"
    }
   ],
   "source": [
    "mn=np.min(train_x)\n",
    "mx=np.max(train_x)\n",
    "plot_x=np.linspace(mn,mx,500)\n",
    "plot_y=thetas[0]+thetas[1]*plot_x\n",
    "\n",
    "plt.scatter(train_x, train_y, color='yellowgreen', marker='.')\n",
    "plt.plot(plot_x,plot_y,'-r', alpha=0.3)\n"
   ]
  }
 ],
 "metadata": {
  "kernelspec": {
   "display_name": "Python 3",
   "language": "python",
   "name": "python3"
  },
  "language_info": {
   "codemirror_mode": {
    "name": "ipython",
    "version": 3
   },
   "file_extension": ".py",
   "mimetype": "text/x-python",
   "name": "python",
   "nbconvert_exporter": "python",
   "pygments_lexer": "ipython3",
   "version": "3.7.7"
  }
 },
 "nbformat": 4,
 "nbformat_minor": 4
}
